{
  "nbformat": 4,
  "nbformat_minor": 0,
  "metadata": {
    "colab": {
      "name": "Python Object-oriented01.ipynb",
      "provenance": [],
      "authorship_tag": "ABX9TyPUW47DQsd4BNMxno7PDCIX"
    },
    "kernelspec": {
      "name": "python3",
      "display_name": "Python 3"
    }
  },
  "cells": [
    {
      "cell_type": "markdown",
      "metadata": {
        "id": "8kOm_Dftciyl"
      },
      "source": [
        "## **This is my practice of Python as an object oriented programming language.**\r\n",
        "\r\n",
        "- **Class** : A blueprint for cereating objects of a particular type\r\n",
        "- **Methods** : Regular functions that are part of a class\r\n",
        "- **Attributes** : Variables that hold data that are part of a class\r\n",
        "- **Object** : A pecific instance if a class\r\n",
        "- **Inheritance** : Means by which a class can inherit capabilities from another\r\n",
        "- **Composition** : Means by building complex objects out of other objects"
      ]
    },
    {
      "cell_type": "code",
      "metadata": {
        "colab": {
          "base_uri": "https://localhost:8080/"
        },
        "id": "oZ0Al4U5_WZe",
        "outputId": "544406d7-975f-42c5-931a-f3726de0c542"
      },
      "source": [
        "#Basic class definitions + instance + instance types\r\n",
        "\r\n",
        "# Basic class definitions\r\n",
        "\r\n",
        "\r\n",
        "# TODO: create a basic class\r\n",
        "class Book:\r\n",
        "  def __init__(self, title, author, pages, price):\r\n",
        "    self.title = title\r\n",
        "    self.author = author\r\n",
        "    self.pages = pages\r\n",
        "    self.price = price\r\n",
        "\r\n",
        "  def setDiscount(self, amount):\r\n",
        "    self._discount = amount\r\n",
        "\r\n",
        "  def getprice(self):\r\n",
        "    if hasattr(self, \"_discount\"):\r\n",
        "      return self.price - (self.price*self._discount)\r\n",
        "    else:\r\n",
        "      return self.price\r\n",
        "\r\n",
        "  \r\n",
        "    \r\n",
        " \r\n",
        "# TODO: create instances of the class\r\n",
        "b1 = Book(\"A brand new world\", \"Leo Todor\", 1233, 87.77)\r\n",
        "b2 = Book(\"Immediate alacrity\", \"Lenny Todor\", 12366, 80.77)\r\n",
        "\r\n",
        "# TODO: print the class and property\r\n",
        "print(b1)\r\n",
        "print(b1.getprice())\r\n",
        "print(b2.getprice())\r\n",
        "b2.setDiscount(0.40)\r\n",
        "\r\n",
        "print(b2.getprice())"
      ],
      "execution_count": null,
      "outputs": [
        {
          "output_type": "stream",
          "text": [
            "<__main__.Book object at 0x7f8fdec2fa58>\n",
            "87.77\n",
            "80.77\n",
            "48.461999999999996\n"
          ],
          "name": "stdout"
        }
      ]
    },
    {
      "cell_type": "code",
      "metadata": {
        "colab": {
          "base_uri": "https://localhost:8080/"
        },
        "id": "-X9fa_7HGNK1",
        "outputId": "f206e222-76d0-4518-9ab6-5e2a1555d444"
      },
      "source": [
        "print(isinstance(b2, Book))"
      ],
      "execution_count": null,
      "outputs": [
        {
          "output_type": "stream",
          "text": [
            "True\n"
          ],
          "name": "stdout"
        }
      ]
    },
    {
      "cell_type": "code",
      "metadata": {
        "colab": {
          "base_uri": "https://localhost:8080/"
        },
        "id": "N5yjLVIoCvaG",
        "outputId": "242ece6d-9b36-4d8a-8926-7783701c2f71"
      },
      "source": [
        "#Check class types and instances\r\n",
        "\r\n",
        "class Book:\r\n",
        "    def __init__(self, title):\r\n",
        "        self.title = title\r\n",
        "\r\n",
        "\r\n",
        "class Newspaper:\r\n",
        "    def __init__(self, name):\r\n",
        "        self.name = name\r\n",
        "\r\n",
        "\r\n",
        "# Create some instances of the classes\r\n",
        "b1 = Book(\"The Catcher In The Rye\")\r\n",
        "b2 = Book(\"The Grapes of Wrath\")\r\n",
        "n1 = Newspaper(\"The Washington Post\")\r\n",
        "n2 = Newspaper(\"The New York Times\")\r\n",
        "\r\n",
        "# TODO: use type() to inspect the object type\r\n",
        "print(type(b1))\r\n",
        "print(type(n1))\r\n",
        "\r\n",
        "# TODO: compare two types together\r\n",
        "print(type(b1) == type(b2))\r\n",
        "print(type(b1) == type(n2))\r\n",
        "\r\n",
        "# TODO: use isinstance to compare a specific instance to a known type\r\n",
        "print(isinstance(b1, Book))\r\n",
        "print(isinstance(n1, Newspaper))\r\n",
        "\r\n",
        "print(isinstance(n2, Book))\r\n",
        "print(isinstance(n2, object))"
      ],
      "execution_count": null,
      "outputs": [
        {
          "output_type": "stream",
          "text": [
            "<class '__main__.Book'>\n",
            "<class '__main__.Newspaper'>\n",
            "True\n",
            "False\n",
            "True\n",
            "True\n",
            "False\n",
            "True\n"
          ],
          "name": "stdout"
        }
      ]
    },
    {
      "cell_type": "code",
      "metadata": {
        "colab": {
          "base_uri": "https://localhost:8080/"
        },
        "id": "pvZYhe8JcZIX",
        "outputId": "09681612-c415-4b5a-df64-cd51b1a6aba9"
      },
      "source": [
        "#Let's create a Class called Book with a title using class attribute called BOOK_TYPE\r\n",
        "\r\n",
        "\r\n",
        "class Book:\r\n",
        "    # TODO: Properties defined at the class level are shared by all instances\r\n",
        "    BOOK_TYPES = (\"HARDCOVER\", \"PAPERBACK\", \"EBOOK\")\r\n",
        "    # TODO: double-underscore properties are hidden from other classes\r\n",
        "    __booklist = None\r\n",
        "\r\n",
        "    # static methods do not receive class or instance arguments\r\n",
        "    # and usually operate on data that is not instance- or\r\n",
        "    # class-specific\r\n",
        "    @staticmethod\r\n",
        "    def getbooklist():\r\n",
        "        if Book.__booklist == None:\r\n",
        "            Book.__booklist = []\r\n",
        "        return Book.__booklist\r\n",
        "\r\n",
        "    # class methods receive a class as their argument and can only\r\n",
        "    # operate on class-level data\r\n",
        "    @classmethod\r\n",
        "    def getbooktypes(cls):\r\n",
        "        return cls.BOOK_TYPES\r\n",
        "\r\n",
        "    # instance methods receive a specific object instance as an argument\r\n",
        "    # and operate on data specific to that object instance\r\n",
        "    def setTitle(self, newtitle):\r\n",
        "        self.title = newtitle\r\n",
        "\r\n",
        "    def __init__(self, title, booktype):\r\n",
        "        self.title = title\r\n",
        "        if (not booktype in Book.BOOK_TYPES):\r\n",
        "            raise ValueError(f\"{booktype} is not a valid book type\")\r\n",
        "        else:\r\n",
        "            self.booktype = booktype\r\n",
        "\r\n",
        "\r\n",
        "# TODO: access the class attribute\r\n",
        "print(\"Book types: \", Book.getbooktypes())\r\n",
        "\r\n",
        "# TODO: Create some book instances\r\n",
        "b1 = Book(\"Title 1\", \"HARDCOVER\")\r\n",
        "b2 = Book(\"Title 2\", \"PAPERBACK\")\r\n",
        "\r\n",
        "# TODO: Use the static method to access a singleton object\r\n",
        "thebooks = Book.getbooklist()\r\n",
        "thebooks.append(b1)\r\n",
        "thebooks.append(b2)\r\n",
        "print(len(thebooks))\r\n"
      ],
      "execution_count": null,
      "outputs": [
        {
          "output_type": "stream",
          "text": [
            "Book types:  ('HARDCOVER', 'PAPERBACK', 'EBOOK')\n",
            "2\n"
          ],
          "name": "stdout"
        }
      ]
    },
    {
      "cell_type": "code",
      "metadata": {
        "colab": {
          "base_uri": "https://localhost:8080/"
        },
        "id": "icdyIEBwFwfP",
        "outputId": "f030e89c-053a-44ee-85a1-8eca77473a1b"
      },
      "source": [
        "# Understanding class inheritance: start\r\n",
        "\r\n",
        "\r\n",
        "class Book:\r\n",
        "    def __init__(self, title, author, pages, price):\r\n",
        "        self.title = title\r\n",
        "        self.price = price\r\n",
        "        self.author = author\r\n",
        "        self.pages = pages\r\n",
        "\r\n",
        "\r\n",
        "class Magazine:\r\n",
        "    def __init__(self, title, publisher, price, period):\r\n",
        "        self.title = title\r\n",
        "        self.price = price\r\n",
        "        self.period = period\r\n",
        "        self.publisher = publisher\r\n",
        "\r\n",
        "\r\n",
        "class Newspaper:\r\n",
        "    def __init__(self, title, publisher, price, period):\r\n",
        "        self.title = title\r\n",
        "        self.price = price\r\n",
        "        self.period = period\r\n",
        "        self.publisher = publisher\r\n",
        "\r\n",
        "\r\n",
        "b1 = Book(\"Brave New World\", \"Aldous Huxley\", 311, 29.0)\r\n",
        "n1 = Newspaper(\"NY Times\", \"New York Times Company\", 6.0, \"Daily\")\r\n",
        "m1 = Magazine(\"Scientific American\", \"Springer Nature\", 5.99, \"Monthly\")\r\n",
        "\r\n",
        "print(b1.author)\r\n",
        "print(n1.publisher)\r\n",
        "print(b1.price, m1.price, n1.price)\r\n"
      ],
      "execution_count": null,
      "outputs": [
        {
          "output_type": "stream",
          "text": [
            "Aldous Huxley\n",
            "New York Times Company\n",
            "29.0 5.99 6.0\n"
          ],
          "name": "stdout"
        }
      ]
    },
    {
      "cell_type": "code",
      "metadata": {
        "colab": {
          "base_uri": "https://localhost:8080/"
        },
        "id": "KN1U1N3dO3xF",
        "outputId": "eae60e55-b83f-49ae-cf67-319b962d5b07"
      },
      "source": [
        "# Understanding class inheritance\r\n",
        "\r\n",
        "\r\n",
        "class Publication:\r\n",
        "    def __init__(self, title, price):\r\n",
        "        self.title = title\r\n",
        "        self.price = price\r\n",
        "\r\n",
        "\r\n",
        "class Periodical(Publication):\r\n",
        "    def __init__(self, title, price, publisher, period):\r\n",
        "        super().__init__(title, price)\r\n",
        "        self.period = period\r\n",
        "        self.publisher = publisher\r\n",
        "\r\n",
        "\r\n",
        "class Book(Publication):\r\n",
        "    def __init__(self, title, author, pages, price):\r\n",
        "        super().__init__(title, price)\r\n",
        "        self.author = author\r\n",
        "        self.pages = pages\r\n",
        "\r\n",
        "\r\n",
        "class Magazine(Periodical):\r\n",
        "    def __init__(self, title, publisher, price, period):\r\n",
        "        super().__init__(title, price, publisher, period)\r\n",
        "\r\n",
        "\r\n",
        "class Newspaper(Periodical):\r\n",
        "    def __init__(self, title, publisher, price, period):\r\n",
        "        super().__init__(title, price, publisher, period)\r\n",
        "\r\n",
        "\r\n",
        "b1 = Book(\"Brave New World\", \"Aldous Huxley\", 311, 29.0)\r\n",
        "n1 = Newspaper(\"NY Times\", \"New York Times Company\", 6.0, \"Daily\")\r\n",
        "m1 = Magazine(\"Scientific American\", \"Springer Nature\", 5.99, \"Monthly\")\r\n",
        "\r\n",
        "print(b1.author)\r\n",
        "print(n1.publisher)\r\n",
        "print(b1.price, m1.price, n1.price)"
      ],
      "execution_count": null,
      "outputs": [
        {
          "output_type": "stream",
          "text": [
            "Aldous Huxley\n",
            "New York Times Company\n",
            "29.0 5.99 6.0\n"
          ],
          "name": "stdout"
        }
      ]
    },
    {
      "cell_type": "code",
      "metadata": {
        "id": "g1Y7GJL1bAGu"
      },
      "source": [
        "# Using Abstract Base Classes to enforce class constraints: start\r\n",
        "\r\n",
        "\r\n",
        "class GraphicShape:\r\n",
        "    def __init__(self):\r\n",
        "        super().__init__()\r\n",
        "\r\n",
        "    def calcArea(self):\r\n",
        "        pass\r\n",
        "\r\n",
        "\r\n",
        "class Circle(GraphicShape):\r\n",
        "    def __init__(self, radius):\r\n",
        "        self.radius = radius\r\n",
        "\r\n",
        "\r\n",
        "class Square(GraphicShape):\r\n",
        "    def __init__(self, side):\r\n",
        "        self.side = side\r\n",
        "\r\n",
        "\r\n",
        "g = GraphicShape()\r\n",
        "\r\n",
        "c = Circle(10)\r\n",
        "print(c.calcArea())\r\n",
        "s = Square(12)\r\n",
        "print(s.calcArea())"
      ],
      "execution_count": null,
      "outputs": []
    },
    {
      "cell_type": "code",
      "metadata": {
        "id": "-GQDZq9AbzoJ",
        "colab": {
          "base_uri": "https://localhost:8080/"
        },
        "outputId": "d841c260-3115-4de7-b745-20bec23e3947"
      },
      "source": [
        "# Using Abstract Base Classes to enforce class constraints\r\n",
        "\r\n",
        "from abc import ABC, abstractmethod\r\n",
        "\r\n",
        "\r\n",
        "class GraphicShape(ABC):\r\n",
        "    # Inheriting from ABC indicates that this is an abstract base class\r\n",
        "    def __init__(self):\r\n",
        "        super().__init__()\r\n",
        "\r\n",
        "    # declaring a method as abstract requires a subclass to implement it\r\n",
        "    @abstractmethod\r\n",
        "    def calcArea(self):\r\n",
        "        pass\r\n",
        "\r\n",
        "\r\n",
        "class Circle(GraphicShape):\r\n",
        "    def __init__(self, radius):\r\n",
        "        self.radius = radius\r\n",
        "\r\n",
        "    def calcArea(self):\r\n",
        "        return 3.14 * (self.radius ** 2)\r\n",
        "\r\n",
        "\r\n",
        "class Square(GraphicShape):\r\n",
        "    def __init__(self, side):\r\n",
        "        self.side = side\r\n",
        "\r\n",
        "    def calcArea(self):\r\n",
        "        return self.side * self.side\r\n",
        "\r\n",
        "\r\n",
        "# Abstract classes can't be instantiated themselves\r\n",
        "# g = GraphicShape() # this will error\r\n",
        "\r\n",
        "c = Circle(10)\r\n",
        "print(c.calcArea())\r\n",
        "s = Square(12)\r\n",
        "print(s.calcArea())\r\n"
      ],
      "execution_count": null,
      "outputs": [
        {
          "output_type": "stream",
          "text": [
            "314.0\n",
            "144\n"
          ],
          "name": "stdout"
        }
      ]
    }
  ]
}